{
 "cells": [
  {
   "cell_type": "markdown",
   "id": "3ff8c19e",
   "metadata": {},
   "source": [
    "# El Tab Location Finder\n",
    "\n",
    "\n",
    "I created this programme to find the street address of a list of bars which are sometimes used by the app, El Tab.\n",
    "\n",
    "The programme takes the name of the bar and its location in London, if applicable, to return its street address. It does this using web scraping capabilities with BeautifulSoup."
   ]
  }
 ],
 "metadata": {
  "kernelspec": {
   "display_name": "Python 3",
   "language": "python",
   "name": "python3"
  },
  "language_info": {
   "codemirror_mode": {
    "name": "ipython",
    "version": 3
   },
   "file_extension": ".py",
   "mimetype": "text/x-python",
   "name": "python",
   "nbconvert_exporter": "python",
   "pygments_lexer": "ipython3",
   "version": "3.8.8"
  }
 },
 "nbformat": 4,
 "nbformat_minor": 5
}
